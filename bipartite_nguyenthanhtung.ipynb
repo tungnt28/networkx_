{
  "nbformat": 4,
  "nbformat_minor": 0,
  "metadata": {
    "colab": {
      "provenance": []
    },
    "kernelspec": {
      "name": "python3",
      "display_name": "Python 3"
    },
    "language_info": {
      "name": "python"
    }
  },
  "cells": [
    {
      "cell_type": "code",
      "source": [
        "pip install networkx"
      ],
      "metadata": {
        "colab": {
          "base_uri": "https://localhost:8080/"
        },
        "id": "QgyxmZs3mDur",
        "outputId": "70e60b1c-7eae-40f3-b92f-bf7d184874aa"
      },
      "execution_count": null,
      "outputs": [
        {
          "output_type": "stream",
          "name": "stdout",
          "text": [
            "Requirement already satisfied: networkx in /usr/local/lib/python3.10/dist-packages (3.3)\n"
          ]
        }
      ]
    },
    {
      "cell_type": "code",
      "execution_count": null,
      "metadata": {
        "id": "7nkYr5X_DIi_"
      },
      "outputs": [],
      "source": [
        "#Import package\n",
        "import networkx as nx\n",
        "import matplotlib\n",
        "import numpy as np\n",
        "import pandas as pd\n",
        "\n",
        "from networkx.algorithms import bipartite\n",
        "from matplotlib import pyplot as plt\n",
        "#To create an empty undirected graph\n",
        "G = nx.Graph()"
      ]
    },
    {
      "cell_type": "code",
      "source": [
        "# To add a node A\n",
        "G.add_nodes_from([1, 2, 3, 4, 5], bipartite=0, node_color = 'blue')\n",
        "\n",
        "# To add a node B\n",
        "G.add_nodes_from(['A', 'B', 'C', 'D', 'E', 'F'], bipartite=1, node_color = 'red')\n",
        "\n",
        "# To add an edge\n",
        "G.add_edges_from([('A',1), ('B',2), ('C',3), ('C',4), ('D',5), ('E',5),\n",
        "('F', 4), ('A',4), ('B',3)])\n",
        "\n",
        "nx.spring_layout\n",
        "nx.draw(G, with_labels=True, node_size=200, width=0.2)\n",
        "plt.show()"
      ],
      "metadata": {
        "colab": {
          "base_uri": "https://localhost:8080/",
          "height": 516
        },
        "id": "EV0uqs6UnDOL",
        "outputId": "ae703b6e-332d-4415-9e28-c7a470882e98"
      },
      "execution_count": null,
      "outputs": [
        {
          "output_type": "display_data",
          "data": {
            "text/plain": [
              "<Figure size 640x480 with 1 Axes>"
            ],
            "image/png": "[encoded data removed]"
          },
          "metadata": {}
        }
      ]
    },
    {
      "cell_type": "code",
      "source": [
        "#Count node, edges\n",
        "len(G.nodes),len(G.edges)"
      ],
      "metadata": {
        "colab": {
          "base_uri": "https://localhost:8080/"
        },
        "id": "j687DCdi50UH",
        "outputId": "016fb7dc-f189-4a20-deae-f18a323da931"
      },
      "execution_count": null,
      "outputs": [
        {
          "output_type": "execute_result",
          "data": {
            "text/plain": [
              "(11, 9)"
            ]
          },
          "metadata": {},
          "execution_count": 46
        }
      ]
    },
    {
      "cell_type": "code",
      "source": [
        "G.nodes()"
      ],
      "metadata": {
        "colab": {
          "base_uri": "https://localhost:8080/"
        },
        "id": "VMGsZqlzATvc",
        "outputId": "01afee9c-d466-452e-9e41-f1904c52e95a"
      },
      "execution_count": null,
      "outputs": [
        {
          "output_type": "execute_result",
          "data": {
            "text/plain": [
              "NodeView((1, 2, 3, 4, 5, 'A', 'B', 'C', 'D', 'E', 'F'))"
            ]
          },
          "metadata": {},
          "execution_count": 47
        }
      ]
    },
    {
      "cell_type": "code",
      "source": [
        "G.edges()"
      ],
      "metadata": {
        "colab": {
          "base_uri": "https://localhost:8080/"
        },
        "id": "iX8CDqMXAYoX",
        "outputId": "6f144fd4-5faa-433d-a513-b282793613c9"
      },
      "execution_count": null,
      "outputs": [
        {
          "output_type": "execute_result",
          "data": {
            "text/plain": [
              "EdgeView([(1, 'A'), (2, 'B'), (3, 'C'), (3, 'B'), (4, 'C'), (4, 'F'), (4, 'A'), (5, 'D'), (5, 'E')])"
            ]
          },
          "metadata": {},
          "execution_count": 48
        }
      ]
    },
    {
      "cell_type": "code",
      "source": [
        "A = bipartite.biadjacency_matrix(G, G.nodes, G).toarray()\n",
        "A = pd.DataFrame(A)\n",
        "print(A)"
      ],
      "metadata": {
        "colab": {
          "base_uri": "https://localhost:8080/"
        },
        "id": "Eu_8xhzeFUpT",
        "outputId": "97c8da9e-f2f7-41f6-9278-1e93463769de"
      },
      "execution_count": null,
      "outputs": [
        {
          "output_type": "stream",
          "name": "stdout",
          "text": [
            "    0   1   2   3   4   5   6   7   8   9   10\n",
            "0    0   0   0   0   0   1   0   0   0   0   0\n",
            "1    0   0   0   0   0   0   1   0   0   0   0\n",
            "2    0   0   0   0   0   0   1   1   0   0   0\n",
            "3    0   0   0   0   0   1   0   1   0   0   1\n",
            "4    0   0   0   0   0   0   0   0   1   1   0\n",
            "5    0   0   0   0   0   0   0   0   0   0   0\n",
            "6    0   0   0   0   0   0   0   0   0   0   0\n",
            "7    0   0   0   0   0   0   0   0   0   0   0\n",
            "8    0   0   0   0   0   0   0   0   0   0   0\n",
            "9    0   0   0   0   0   0   0   0   0   0   0\n",
            "10   0   0   0   0   0   0   0   0   0   0   0\n"
          ]
        }
      ]
    },
    {
      "cell_type": "code",
      "source": [
        "G = nx.path_graph(4)\n",
        "G.degree[3]"
      ],
      "metadata": {
        "colab": {
          "base_uri": "https://localhost:8080/"
        },
        "id": "XmZIhmXRFfB2",
        "outputId": "e758f37d-6b59-46b4-f613-5cb42f298c9e"
      },
      "execution_count": null,
      "outputs": [
        {
          "output_type": "execute_result",
          "data": {
            "text/plain": [
              "1"
            ]
          },
          "metadata": {},
          "execution_count": 50
        }
      ]
    }
  ]
}